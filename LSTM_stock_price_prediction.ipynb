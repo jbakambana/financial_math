{
 "cells": [
  {
   "cell_type": "markdown",
   "metadata": {},
   "source": [
    "# MathFin Practice\n",
    "\n",
    "## Jey@aims.ac.za"
   ]
  },
  {
   "cell_type": "code",
   "execution_count": null,
   "metadata": {
    "id": "dWcgtmVXH1KK"
   },
   "outputs": [],
   "source": [
    "import numpy as np\n",
    "import tensorflow as tf\n",
    "import pandas\n",
    "import matplotlib.pyplot as plt\n",
    "from sklearn.preprocessing import MinMaxScaler\n",
    "import math\n",
    "from sklearn.preprocessing import StandardScaler\n",
    "\n",
    "# Keras imports\n",
    "from keras.models import Sequential\n",
    "from keras.layers import Dense\n",
    "import yfinance as yf\n",
    "\n",
    "\n",
    "# Here we import the LSTM cell which allows us to make LSTM cells\n",
    "# Here is the documentation for the LSTM cell in Keras https://keras.io/layers/recurrent/#lstm\n",
    "from keras.layers import LSTM"
   ]
  },
  {
   "cell_type": "markdown",
   "metadata": {
    "id": "SjIK4Q8aH1KM"
   },
   "source": [
    "# 1. Reading and Cleaning th data"
   ]
  },
  {
   "cell_type": "code",
   "execution_count": null,
   "metadata": {
    "id": "7syjyEjYH1KP",
    "outputId": "992eb00d-4c41-4abe-c3e1-363fd7d4750c"
   },
   "outputs": [
    {
     "name": "stdout",
     "output_type": "stream",
     "text": [
      "[*********************100%***********************]  1 of 1 completed\n"
     ]
    }
   ],
   "source": [
    "#dataframe = pandas.read_csv('JSEJF.csv',engine='python', sep = ',', header=0)\n",
    "dataframe = yf.download(\"JSEJF\",start=\"2010-01-01\",end=\"2019-12-31\")"
   ]
  },
  {
   "cell_type": "code",
   "execution_count": null,
   "metadata": {
    "id": "mc8HSvthH1KQ",
    "outputId": "d2250675-f987-4b99-f315-0a2a731a23ca"
   },
   "outputs": [
    {
     "data": {
      "text/html": [
       "<div>\n",
       "<style scoped>\n",
       "    .dataframe tbody tr th:only-of-type {\n",
       "        vertical-align: middle;\n",
       "    }\n",
       "\n",
       "    .dataframe tbody tr th {\n",
       "        vertical-align: top;\n",
       "    }\n",
       "\n",
       "    .dataframe thead th {\n",
       "        text-align: right;\n",
       "    }\n",
       "</style>\n",
       "<table border=\"1\" class=\"dataframe\">\n",
       "  <thead>\n",
       "    <tr style=\"text-align: right;\">\n",
       "      <th></th>\n",
       "      <th>Open</th>\n",
       "      <th>High</th>\n",
       "      <th>Low</th>\n",
       "      <th>Close</th>\n",
       "      <th>Adj Close</th>\n",
       "      <th>Volume</th>\n",
       "    </tr>\n",
       "    <tr>\n",
       "      <th>Date</th>\n",
       "      <th></th>\n",
       "      <th></th>\n",
       "      <th></th>\n",
       "      <th></th>\n",
       "      <th></th>\n",
       "      <th></th>\n",
       "    </tr>\n",
       "  </thead>\n",
       "  <tbody>\n",
       "    <tr>\n",
       "      <td>2009-12-31</td>\n",
       "      <td>8.25</td>\n",
       "      <td>8.25</td>\n",
       "      <td>8.25</td>\n",
       "      <td>8.25</td>\n",
       "      <td>0.198083</td>\n",
       "      <td>400</td>\n",
       "    </tr>\n",
       "    <tr>\n",
       "      <td>2010-01-04</td>\n",
       "      <td>8.20</td>\n",
       "      <td>8.20</td>\n",
       "      <td>8.20</td>\n",
       "      <td>8.20</td>\n",
       "      <td>0.196882</td>\n",
       "      <td>200</td>\n",
       "    </tr>\n",
       "    <tr>\n",
       "      <td>2010-01-05</td>\n",
       "      <td>8.45</td>\n",
       "      <td>8.45</td>\n",
       "      <td>8.45</td>\n",
       "      <td>8.45</td>\n",
       "      <td>0.202885</td>\n",
       "      <td>2000</td>\n",
       "    </tr>\n",
       "    <tr>\n",
       "      <td>2010-01-06</td>\n",
       "      <td>8.45</td>\n",
       "      <td>8.45</td>\n",
       "      <td>8.40</td>\n",
       "      <td>8.40</td>\n",
       "      <td>0.201684</td>\n",
       "      <td>2900</td>\n",
       "    </tr>\n",
       "    <tr>\n",
       "      <td>2010-01-07</td>\n",
       "      <td>8.40</td>\n",
       "      <td>8.40</td>\n",
       "      <td>8.40</td>\n",
       "      <td>8.40</td>\n",
       "      <td>0.201684</td>\n",
       "      <td>0</td>\n",
       "    </tr>\n",
       "  </tbody>\n",
       "</table>\n",
       "</div>"
      ],
      "text/plain": [
       "            Open  High   Low  Close  Adj Close  Volume\n",
       "Date                                                  \n",
       "2009-12-31  8.25  8.25  8.25   8.25   0.198083     400\n",
       "2010-01-04  8.20  8.20  8.20   8.20   0.196882     200\n",
       "2010-01-05  8.45  8.45  8.45   8.45   0.202885    2000\n",
       "2010-01-06  8.45  8.45  8.40   8.40   0.201684    2900\n",
       "2010-01-07  8.40  8.40  8.40   8.40   0.201684       0"
      ]
     },
     "execution_count": 1014,
     "metadata": {},
     "output_type": "execute_result"
    }
   ],
   "source": [
    "dataframe.head()"
   ]
  },
  {
   "cell_type": "code",
   "execution_count": null,
   "metadata": {
    "id": "-7BIvjd-H1KR",
    "outputId": "40c64d30-1dfb-495a-f0b6-a0a109702af7"
   },
   "outputs": [
    {
     "data": {
      "text/plain": [
       "(2516, 6)"
      ]
     },
     "execution_count": 1015,
     "metadata": {},
     "output_type": "execute_result"
    }
   ],
   "source": [
    "dataframe.shape"
   ]
  },
  {
   "cell_type": "markdown",
   "metadata": {
    "id": "6N1vVWaJH1KS"
   },
   "source": [
    "### Cleaning the data by removing rows with empty entries"
   ]
  },
  {
   "cell_type": "code",
   "execution_count": null,
   "metadata": {
    "id": "RhoRPH6LH1KT"
   },
   "outputs": [],
   "source": [
    "dataframe = dataframe.dropna()\n",
    "dataframe = dataframe.reset_index(drop=True)"
   ]
  },
  {
   "cell_type": "code",
   "execution_count": null,
   "metadata": {
    "id": "JvNsHjvtH1KT",
    "outputId": "0647fcea-509d-43c5-a736-9e6514971e19"
   },
   "outputs": [
    {
     "data": {
      "text/plain": [
       "(2516, 6)"
      ]
     },
     "execution_count": 1017,
     "metadata": {},
     "output_type": "execute_result"
    }
   ],
   "source": [
    "dataframe.shape"
   ]
  },
  {
   "cell_type": "markdown",
   "metadata": {
    "id": "gD-HaEZJH1KU"
   },
   "source": [
    "Seems like not the data doesn't have rows with empty emptries"
   ]
  },
  {
   "cell_type": "markdown",
   "metadata": {
    "id": "gFspNTmuH1KU"
   },
   "source": [
    "# 2. Creation of a new dataframe indexed by 'Data'"
   ]
  },
  {
   "cell_type": "code",
   "execution_count": null,
   "metadata": {
    "id": "fLU_6WteH1KV"
   },
   "outputs": [],
   "source": [
    "dataset = dataframe.drop(columns = ['High','Low','Adj Close','Volume'])"
   ]
  },
  {
   "cell_type": "code",
   "execution_count": null,
   "metadata": {
    "id": "FodNTX0BH1KV",
    "outputId": "accb1e85-b24b-44c8-dc2f-abf1da0d41a5"
   },
   "outputs": [
    {
     "data": {
      "text/html": [
       "<div>\n",
       "<style scoped>\n",
       "    .dataframe tbody tr th:only-of-type {\n",
       "        vertical-align: middle;\n",
       "    }\n",
       "\n",
       "    .dataframe tbody tr th {\n",
       "        vertical-align: top;\n",
       "    }\n",
       "\n",
       "    .dataframe thead th {\n",
       "        text-align: right;\n",
       "    }\n",
       "</style>\n",
       "<table border=\"1\" class=\"dataframe\">\n",
       "  <thead>\n",
       "    <tr style=\"text-align: right;\">\n",
       "      <th></th>\n",
       "      <th>Open</th>\n",
       "      <th>Close</th>\n",
       "    </tr>\n",
       "  </thead>\n",
       "  <tbody>\n",
       "    <tr>\n",
       "      <td>0</td>\n",
       "      <td>8.25</td>\n",
       "      <td>8.25</td>\n",
       "    </tr>\n",
       "    <tr>\n",
       "      <td>1</td>\n",
       "      <td>8.20</td>\n",
       "      <td>8.20</td>\n",
       "    </tr>\n",
       "    <tr>\n",
       "      <td>2</td>\n",
       "      <td>8.45</td>\n",
       "      <td>8.45</td>\n",
       "    </tr>\n",
       "    <tr>\n",
       "      <td>3</td>\n",
       "      <td>8.45</td>\n",
       "      <td>8.40</td>\n",
       "    </tr>\n",
       "    <tr>\n",
       "      <td>4</td>\n",
       "      <td>8.40</td>\n",
       "      <td>8.40</td>\n",
       "    </tr>\n",
       "  </tbody>\n",
       "</table>\n",
       "</div>"
      ],
      "text/plain": [
       "   Open  Close\n",
       "0  8.25   8.25\n",
       "1  8.20   8.20\n",
       "2  8.45   8.45\n",
       "3  8.45   8.40\n",
       "4  8.40   8.40"
      ]
     },
     "execution_count": 1019,
     "metadata": {},
     "output_type": "execute_result"
    }
   ],
   "source": [
    "dataset.head()"
   ]
  },
  {
   "cell_type": "markdown",
   "metadata": {
    "id": "9CqbpWaNH1KX"
   },
   "source": [
    "## Checking the shape"
   ]
  },
  {
   "cell_type": "code",
   "execution_count": null,
   "metadata": {
    "id": "ZViG_BIIH1KX",
    "outputId": "94eb1fc0-c996-4382-d34c-2a8e1274d1b9"
   },
   "outputs": [
    {
     "data": {
      "text/plain": [
       "(2516, 2)"
      ]
     },
     "execution_count": 1020,
     "metadata": {},
     "output_type": "execute_result"
    }
   ],
   "source": [
    "dataset.shape"
   ]
  },
  {
   "cell_type": "markdown",
   "metadata": {
    "id": "Mc_83Fo4H1KX"
   },
   "source": [
    "## Creation of an array containing all close values"
   ]
  },
  {
   "cell_type": "code",
   "execution_count": null,
   "metadata": {
    "id": "x70Y8S4YH1KY"
   },
   "outputs": [],
   "source": [
    "dataset_close = dataset['Close'].values\n",
    "dataset_close = dataset_close.astype('float32')"
   ]
  },
  {
   "cell_type": "code",
   "execution_count": null,
   "metadata": {
    "id": "1WF-p-DFH1KY",
    "outputId": "e25b54f6-fb3e-4f14-967c-fe51e3b8e1d4"
   },
   "outputs": [
    {
     "data": {
      "text/plain": [
       "array([8.25, 8.2 , 8.45, ..., 8.61, 8.9 , 8.74], dtype=float32)"
      ]
     },
     "execution_count": 1022,
     "metadata": {},
     "output_type": "execute_result"
    }
   ],
   "source": [
    "dataset_close"
   ]
  },
  {
   "cell_type": "markdown",
   "metadata": {
    "id": "3aQEBUcUH1KZ"
   },
   "source": [
    "### Checking the shape"
   ]
  },
  {
   "cell_type": "code",
   "execution_count": null,
   "metadata": {
    "id": "_1jzX5S6H1KZ",
    "outputId": "35accdf5-6721-41f7-af94-1318b3bde3d8"
   },
   "outputs": [
    {
     "data": {
      "text/plain": [
       "(2516,)"
      ]
     },
     "execution_count": 1023,
     "metadata": {},
     "output_type": "execute_result"
    }
   ],
   "source": [
    "dataset_close.shape"
   ]
  },
  {
   "cell_type": "markdown",
   "metadata": {
    "id": "ez3zKjsQH1KZ"
   },
   "source": [
    "## Reshaping the data into a long vector"
   ]
  },
  {
   "cell_type": "code",
   "execution_count": null,
   "metadata": {
    "id": "qvubr6irH1Ka"
   },
   "outputs": [],
   "source": [
    "dataset_close = dataset_close.reshape(-1,1)"
   ]
  },
  {
   "cell_type": "markdown",
   "metadata": {
    "id": "yuu5JetYH1Kb"
   },
   "source": [
    "### Check of the new shape"
   ]
  },
  {
   "cell_type": "code",
   "execution_count": null,
   "metadata": {
    "id": "AeCaoAhxH1Kb",
    "outputId": "8a26b794-b39a-4bb6-c9df-385017581ab4"
   },
   "outputs": [
    {
     "data": {
      "text/plain": [
       "(2516, 1)"
      ]
     },
     "execution_count": 1025,
     "metadata": {},
     "output_type": "execute_result"
    }
   ],
   "source": [
    "dataset_close.shape"
   ]
  },
  {
   "cell_type": "markdown",
   "metadata": {
    "id": "pnopQBRkH1Kc"
   },
   "source": [
    "## Plot of the all data"
   ]
  },
  {
   "cell_type": "code",
   "execution_count": null,
   "metadata": {
    "id": "WvYXjMydH1Kc",
    "outputId": "10e1d8cd-0937-4369-abfc-db8a52002c40"
   },
   "outputs": [
    {
     "data": {
      "image/png": "[encoded data removed]",
      "text/plain": [
       "<Figure size 432x288 with 1 Axes>"
      ]
     },
     "metadata": {
      "needs_background": "light"
     },
     "output_type": "display_data"
    }
   ],
   "source": [
    "plt.plot(dataset_close)\n",
    "plt.show()"
   ]
  },
  {
   "cell_type": "code",
   "execution_count": null,
   "metadata": {
    "id": "TL0muCNNH1Kd"
   },
   "outputs": [],
   "source": []
  },
  {
   "cell_type": "markdown",
   "metadata": {
    "id": "T4MKVkSmH1Kd"
   },
   "source": [
    "# 4. Scaling the data"
   ]
  },
  {
   "cell_type": "markdown",
   "metadata": {
    "id": "6Bsr-Dc2H1Kd"
   },
   "source": [
    "For the scaling function it's asked to used \"StandardScaler\" but it doesn't give values between 0 and 1. That the reason why we use \"MinMaxScaler\". But the program will still run with either the following variable \"scaler\" is set with StandardScalar or MinMaxScaler"
   ]
  },
  {
   "cell_type": "code",
   "execution_count": null,
   "metadata": {
    "id": "5DGObr4rH1Ke"
   },
   "outputs": [],
   "source": [
    "#scaler = StandardScaler\n",
    "scaler = MinMaxScaler(feature_range=(0, 1))"
   ]
  },
  {
   "cell_type": "code",
   "execution_count": null,
   "metadata": {
    "id": "ZcppflElH1Ke"
   },
   "outputs": [],
   "source": [
    "dataset_close = scaler.fit_transform(dataset_close)"
   ]
  },
  {
   "cell_type": "code",
   "execution_count": null,
   "metadata": {
    "id": "dPhgzOlUH1Ke",
    "outputId": "aeee9d70-1dec-407d-c19b-ef2668417238"
   },
   "outputs": [
    {
     "data": {
      "text/plain": [
       "array([[0.10752684],\n",
       "       [0.10263926],\n",
       "       [0.12707716],\n",
       "       ...,\n",
       "       [0.14271742],\n",
       "       [0.17106545],\n",
       "       [0.15542519]], dtype=float32)"
      ]
     },
     "execution_count": 1029,
     "metadata": {},
     "output_type": "execute_result"
    }
   ],
   "source": [
    "dataset_close"
   ]
  },
  {
   "cell_type": "markdown",
   "metadata": {
    "id": "3yC68hcRH1Kf"
   },
   "source": [
    "# 5. Splitting the data in training and testing data"
   ]
  },
  {
   "cell_type": "code",
   "execution_count": null,
   "metadata": {
    "id": "BFd43ITdH1Kf"
   },
   "outputs": [],
   "source": [
    "train_size = int(len(dataset_close) * 0.70) ## Length of the training data\n",
    "\n",
    "test_size = len(dataset_close) - train_size ## Length of the testing data\n",
    "\n",
    "# Split the data manually (note that here we are not shuffling the data)\n",
    "train, test = dataset_close[0:train_size,:], dataset_close[train_size:len(dataset_close),:]"
   ]
  },
  {
   "cell_type": "markdown",
   "metadata": {
    "id": "CmvULf5jH1Kg"
   },
   "source": [
    "The ratio between the training and the testing depends on factors like how long is the data (small or large). But defaultly is recommanded to use ratio in range 70%-80% for the training and 20%-30% for the testing. That's why we prefered to use 70% and 30%"
   ]
  },
  {
   "cell_type": "markdown",
   "metadata": {
    "id": "S5Q6LQuYH1Kg"
   },
   "source": [
    "# 6. Create the labels for the dataset"
   ]
  },
  {
   "cell_type": "code",
   "execution_count": null,
   "metadata": {
    "id": "yF1YjBYTH1Kh"
   },
   "outputs": [],
   "source": [
    "def create_dataset(dataset, look_back=1):\n",
    "    dataX, dataY = [], []\n",
    "    for i in range(len(dataset)-look_back-1):\n",
    "        a = dataset[i:(i+look_back), 0]\n",
    "        dataX.append(a)\n",
    "        dataY.append(dataset[i + look_back, 0])\n",
    "    return np.array(dataX), np.array(dataY)"
   ]
  },
  {
   "cell_type": "code",
   "execution_count": null,
   "metadata": {
    "id": "lCuCckd7H1Kh"
   },
   "outputs": [],
   "source": []
  },
  {
   "cell_type": "code",
   "execution_count": null,
   "metadata": {
    "id": "tbsELz9gH1Ki"
   },
   "outputs": [],
   "source": [
    "look_back = 10\n",
    "\n",
    "# Split the data into training features and training targets\n",
    "trainX, trainY = create_dataset(train, look_back)\n",
    "\n",
    "# Split the data into testing features and testing targets\n",
    "testX, testY = create_dataset(test, look_back)"
   ]
  },
  {
   "cell_type": "markdown",
   "metadata": {
    "id": "4noqz1udH1Ki"
   },
   "source": [
    "### Checking the new shape"
   ]
  },
  {
   "cell_type": "code",
   "execution_count": null,
   "metadata": {
    "id": "sJdVIHWwH1Kj",
    "outputId": "64c256ae-f5fd-4ba6-8ded-4c4ad45d0e21"
   },
   "outputs": [
    {
     "name": "stdout",
     "output_type": "stream",
     "text": [
      "Train X shape  (1750, 10)\n",
      "Train Y shape (1750,)\n",
      "Test X shape  (744, 10)\n",
      "Test Y shape  (744,)\n"
     ]
    }
   ],
   "source": [
    "print('Train X shape ',trainX.shape)\n",
    "print('Train Y shape',trainY.shape)\n",
    "print('Test X shape ',testX.shape)\n",
    "print('Test Y shape ',testY.shape)"
   ]
  },
  {
   "cell_type": "markdown",
   "metadata": {
    "id": "oh0M9Vk5H1Kj"
   },
   "source": [
    "## Reshape to [samples, timesteps, features]"
   ]
  },
  {
   "cell_type": "code",
   "execution_count": null,
   "metadata": {
    "id": "cR0080v4H1Kk"
   },
   "outputs": [],
   "source": [
    "trainX = np.reshape(trainX, (trainX.shape[0], trainX.shape[1], 1))\n",
    "testX = np.reshape(testX, (testX.shape[0], testX.shape[1], 1))"
   ]
  },
  {
   "cell_type": "code",
   "execution_count": null,
   "metadata": {
    "id": "6xq01KLRH1Kk",
    "outputId": "86a48f8f-d49d-48c1-8ef7-70c67352a079"
   },
   "outputs": [
    {
     "name": "stdout",
     "output_type": "stream",
     "text": [
      "Train X shape  (1750, 10, 1)\n",
      "Train Y shape (1750,)\n",
      "Test X shape  (744, 10, 1)\n",
      "Test Y shape  (744,)\n"
     ]
    }
   ],
   "source": [
    "print('Train X shape ',trainX.shape)\n",
    "print('Train Y shape',trainY.shape)\n",
    "print('Test X shape ',testX.shape)\n",
    "print('Test Y shape ',testY.shape)"
   ]
  },
  {
   "cell_type": "markdown",
   "metadata": {
    "id": "uu5AHxHSH1Km"
   },
   "source": [
    "# 7. Train and test a Stateful LSTM model. State your final training and testing losses."
   ]
  },
  {
   "cell_type": "code",
   "execution_count": null,
   "metadata": {
    "id": "aNQ9Ki_ZH1Km"
   },
   "outputs": [],
   "source": [
    "# Define the model in Keras\n",
    "model = Sequential()"
   ]
  },
  {
   "cell_type": "code",
   "execution_count": null,
   "metadata": {
    "id": "PGzrBWIMH1Kn"
   },
   "outputs": [],
   "source": [
    "# This is how we add an LSTM cell. (We can stack multiple cells on top of each other by repeating this line)\n",
    "model.add(LSTM(8, batch_input_shape=(1, 10, 1), stateful=True))"
   ]
  },
  {
   "cell_type": "code",
   "execution_count": null,
   "metadata": {
    "id": "ND9vloyBH1Kn"
   },
   "outputs": [],
   "source": [
    "# We have to add a fully connected layer of the LSTM to output the predictions. Here we only have 1 node because\n",
    "# our time-series prediction is expecting one output. \n",
    "model.add(Dense(1))"
   ]
  },
  {
   "cell_type": "code",
   "execution_count": null,
   "metadata": {
    "id": "P5Tg2x7YH1Ko"
   },
   "outputs": [],
   "source": [
    "# We define our loss function. Here since we are dealing with numerical data, one option is to use mean squared error.\n",
    "model.compile(loss='mean_squared_error', optimizer='adam')"
   ]
  },
  {
   "cell_type": "code",
   "execution_count": null,
   "metadata": {
    "id": "pXw-E4LNH1Kq",
    "outputId": "f0e28030-a95f-4f49-bfe6-b1c2f3fa4a10"
   },
   "outputs": [
    {
     "name": "stdout",
     "output_type": "stream",
     "text": [
      "Model: \"sequential_23\"\n",
      "_________________________________________________________________\n",
      "Layer (type)                 Output Shape              Param #   \n",
      "=================================================================\n",
      "lstm_23 (LSTM)               (1, 8)                    320       \n",
      "_________________________________________________________________\n",
      "dense_23 (Dense)             (1, 1)                    9         \n",
      "=================================================================\n",
      "Total params: 329\n",
      "Trainable params: 329\n",
      "Non-trainable params: 0\n",
      "_________________________________________________________________\n"
     ]
    }
   ],
   "source": [
    "# Check the number of parameters. Always a good idea to take a look at the model from Keras' point of view\n",
    "model.summary()"
   ]
  },
  {
   "cell_type": "markdown",
   "metadata": {
    "id": "RgKdh1lfH1Kq"
   },
   "source": [
    "## Start training the model"
   ]
  },
  {
   "cell_type": "code",
   "execution_count": null,
   "metadata": {
    "id": "YVZgL6gUH1Kr",
    "outputId": "7745a860-1100-4b9b-ee8b-2e5f0a1292be"
   },
   "outputs": [
    {
     "name": "stdout",
     "output_type": "stream",
     "text": [
      "Epoch 1/1\n",
      " - 13s - loss: 0.0013\n",
      "Epoch 1/1\n",
      " - 11s - loss: 0.0012\n",
      "Epoch 1/1\n",
      " - 10s - loss: 8.6075e-04\n",
      "Epoch 1/1\n",
      " - 11s - loss: 6.7301e-04\n",
      "Epoch 1/1\n",
      " - 15s - loss: 5.7548e-04\n",
      "Epoch 1/1\n",
      " - 13s - loss: 5.2735e-04\n",
      "Epoch 1/1\n",
      " - 10s - loss: 5.0375e-04\n",
      "Epoch 1/1\n",
      " - 11s - loss: 4.9149e-04\n",
      "Epoch 1/1\n",
      " - 15s - loss: 4.8343e-04\n",
      "Epoch 1/1\n",
      " - 16s - loss: 4.7564e-04\n"
     ]
    }
   ],
   "source": [
    "for i in range(10):\n",
    "    model.fit(trainX, trainY, epochs=1, batch_size=1, verbose=2, shuffle=False)\n",
    "    model.reset_states()\n",
    "# Estimate model performance"
   ]
  },
  {
   "cell_type": "markdown",
   "metadata": {
    "id": "4A0W1umMH1Kr"
   },
   "source": [
    "The loss after fitting the model is: 4.7564e-04"
   ]
  },
  {
   "cell_type": "markdown",
   "metadata": {
    "id": "lPbkZaPGH1Ks"
   },
   "source": [
    "# 8. Predict on the test data and prepare the data for plotting"
   ]
  },
  {
   "cell_type": "code",
   "execution_count": null,
   "metadata": {
    "id": "GKZhrLXmH1Kt"
   },
   "outputs": [],
   "source": [
    "# Estimate model performance\n",
    "trainScore = model.evaluate(trainX, trainY, batch_size=1, verbose=0)\n",
    "model.reset_states()\n",
    "trainScore = math.sqrt(trainScore)\n",
    "trainScore = scaler.inverse_transform(np.array([[trainScore]]))\n",
    "\n",
    "testScore = model.evaluate(testX, testY, batch_size=1, verbose=0)\n",
    "model.reset_states()\n",
    "testScore = math.sqrt(testScore)\n",
    "testScore = scaler.inverse_transform(np.array([[testScore]]))\n",
    "\n",
    "# generate predictions for training\n",
    "trainPredict = model.predict(trainX, batch_size=1)\n",
    "testPredict = model.predict(testX, batch_size=1)\n",
    "# shift train predictions for plotting\n",
    "trainPredictPlot = np.empty_like(dataset_close)\n",
    "trainPredictPlot[:, :] = np.nan\n",
    "trainPredictPlot[look_back:len(trainPredict)+look_back, :] = trainPredict\n",
    "\n",
    "# shift test predictions for plotting\n",
    "testPredictPlot = np.empty_like(dataset_close)\n",
    "testPredictPlot[:, :] = np.nan\n",
    "testPredictPlot[len(trainPredict)+(look_back*2)+1:len(dataset_close)-1, :] = testPredict"
   ]
  },
  {
   "cell_type": "code",
   "execution_count": null,
   "metadata": {
    "id": "a1gJ-bgeH1Kt"
   },
   "outputs": [],
   "source": []
  },
  {
   "cell_type": "markdown",
   "metadata": {
    "id": "XGK7TL27H1Kt"
   },
   "source": [
    "### We need to reshape  and shifting testY for the plot"
   ]
  },
  {
   "cell_type": "code",
   "execution_count": null,
   "metadata": {
    "id": "PHcc8v2CH1Ku"
   },
   "outputs": [],
   "source": [
    "testY = testY.reshape(-1,1)"
   ]
  },
  {
   "cell_type": "code",
   "execution_count": null,
   "metadata": {
    "id": "H5IsZOF3H1Ku"
   },
   "outputs": [],
   "source": [
    "# shift test predictions for plotting\n",
    "testYPlot = np.empty_like(dataset_close)\n",
    "testYPlot[:, :] = np.nan\n",
    "testYPlot[len(trainY)+(look_back*2)+1:len(dataset_close)-1, :] = testY"
   ]
  },
  {
   "cell_type": "markdown",
   "metadata": {
    "id": "VqeigeDqH1Kv"
   },
   "source": [
    "### Plot of train test and prediction"
   ]
  },
  {
   "cell_type": "code",
   "execution_count": null,
   "metadata": {
    "id": "nmUib0UfH1Kv",
    "outputId": "41eb8955-432d-47d8-b9f9-1dcebbc53087"
   },
   "outputs": [
    {
     "data": {
      "image/png": "[encoded data removed]",
      "text/plain": [
       "<Figure size 432x288 with 1 Axes>"
      ]
     },
     "metadata": {
      "needs_background": "light"
     },
     "output_type": "display_data"
    }
   ],
   "source": [
    "#plt.plot(dataset_close)\n",
    "plt.plot(trainY, color = 'yellow', label = 'Training')\n",
    "plt.plot(testYPlot, color = 'red', label = 'Testing')\n",
    "plt.plot(trainPredictPlot,'r--',color = 'green', label = 'Train Prediction')\n",
    "plt.plot(testPredictPlot,'r--', color = 'blue', label = 'Test Prediction')\n",
    "plt.legend()\n",
    "plt.show()"
   ]
  },
  {
   "cell_type": "markdown",
   "metadata": {
    "id": "0TLXB0YlH1Kx"
   },
   "source": [
    "# 9. Plot of Open today's values and prediction values"
   ]
  },
  {
   "cell_type": "code",
   "execution_count": null,
   "metadata": {
    "id": "GunAoxuaH1Kx"
   },
   "outputs": [],
   "source": [
    "dataset_open = dataset['Open'].values\n",
    "dataset_open = dataset_open.astype('float32')\n",
    "dataset_open = dataset_open.reshape(-1,1)\n",
    "dataset_open = scaler.fit_transform(dataset_open)"
   ]
  },
  {
   "cell_type": "markdown",
   "metadata": {
    "id": "VSpUwPY9H1Ky"
   },
   "source": [
    "### Preparing the open values for the plot"
   ]
  },
  {
   "cell_type": "code",
   "execution_count": null,
   "metadata": {
    "id": "GgOBxPtfH1Ky"
   },
   "outputs": [],
   "source": [
    "# shift test Open values for plotting\n",
    "openPlot = np.empty_like(dataset_open)\n",
    "openPlot[:, :] = np.nan\n",
    "openPlot[len(trainY)+(look_back*2)+1:len(dataset_open)-1, :] = dataset_open[len(trainY)+(look_back*2)+1:len(dataset_close)-1, :] "
   ]
  },
  {
   "cell_type": "code",
   "execution_count": null,
   "metadata": {
    "id": "F-JRtmdFH1Ky",
    "outputId": "e63b86db-8843-4eac-92c6-4bffe58d58d7"
   },
   "outputs": [
    {
     "data": {
      "text/plain": [
       "[<matplotlib.lines.Line2D at 0x2c81b669348>]"
      ]
     },
     "execution_count": 1048,
     "metadata": {},
     "output_type": "execute_result"
    },
    {
     "data": {
      "image/png": "[encoded data removed]",
      "text/plain": [
       "<Figure size 432x288 with 1 Axes>"
      ]
     },
     "metadata": {
      "needs_background": "light"
     },
     "output_type": "display_data"
    }
   ],
   "source": [
    "plt.plot(testPredictPlot,color = 'red')\n",
    "plt.plot(openPlot,'r--',color = 'blue')\n"
   ]
  },
  {
   "cell_type": "markdown",
   "metadata": {
    "id": "lUcFAy-ZH1K0"
   },
   "source": [
    "# 10. Training the model with unscalled data"
   ]
  },
  {
   "cell_type": "markdown",
   "metadata": {
    "id": "3PRcGnIxH1K0"
   },
   "source": [
    "## Using \"inverse_transform\" to recorver our unscalled close values"
   ]
  },
  {
   "cell_type": "code",
   "execution_count": null,
   "metadata": {
    "id": "rFbjV3cXH1K0"
   },
   "outputs": [],
   "source": [
    "dataset_cl_unscaled = scaler.inverse_transform(dataset_close)"
   ]
  },
  {
   "cell_type": "code",
   "execution_count": null,
   "metadata": {
    "id": "fd3wtHNHH1K1",
    "outputId": "c55ed2fc-9a72-4577-c9f1-7ab91ecbd789"
   },
   "outputs": [
    {
     "data": {
      "text/plain": [
       "(2516, 1)"
      ]
     },
     "execution_count": 1050,
     "metadata": {},
     "output_type": "execute_result"
    }
   ],
   "source": [
    "dataset_cl_unscaled.shape"
   ]
  },
  {
   "cell_type": "code",
   "execution_count": null,
   "metadata": {
    "id": "5vrl8VT3H1K1",
    "outputId": "33ac25d9-5e5a-4be5-a0f9-c2509a027b6c"
   },
   "outputs": [
    {
     "data": {
      "text/plain": [
       "array([[8.273656 ],\n",
       "       [8.22258  ],\n",
       "       [8.477957 ],\n",
       "       ...,\n",
       "       [8.641397 ],\n",
       "       [8.9376335],\n",
       "       [8.774193 ]], dtype=float32)"
      ]
     },
     "execution_count": 1051,
     "metadata": {},
     "output_type": "execute_result"
    }
   ],
   "source": [
    "dataset_cl_unscaled"
   ]
  },
  {
   "cell_type": "markdown",
   "metadata": {
    "id": "XVJCHqPYH1K2"
   },
   "source": [
    "## Splitting the unscalled data to train and test"
   ]
  },
  {
   "cell_type": "code",
   "execution_count": null,
   "metadata": {
    "id": "R6V71elkH1K2"
   },
   "outputs": [],
   "source": [
    "train_size = int(len(dataset_cl_unscaled) * 0.70) ## Length of the training data\n",
    "\n",
    "test_size = len(dataset_cl_unscaled) - train_size ## Length of the testing data\n",
    "\n",
    "# Split the data manually (note that here we are not shuffling the data)\n",
    "train, test = dataset_cl_unscaled[0:train_size,:], dataset_cl_unscaled[train_size:len(dataset_cl_unscaled),:]"
   ]
  },
  {
   "cell_type": "markdown",
   "metadata": {
    "id": "rlcyo6YWH1K3"
   },
   "source": [
    "## Create the labels for the dataset"
   ]
  },
  {
   "cell_type": "code",
   "execution_count": null,
   "metadata": {
    "id": "I0kEb0tEH1K3"
   },
   "outputs": [],
   "source": [
    "look_back = 10\n",
    "\n",
    "# Split the data into training features and training targets\n",
    "trainX, trainY = create_dataset(train, look_back)\n",
    "\n",
    "# Split the data into testing features and testing targets\n",
    "testX, testY = create_dataset(test, look_back)"
   ]
  },
  {
   "cell_type": "markdown",
   "metadata": {
    "id": "d8V2_6OcH1K3"
   },
   "source": [
    "### Checking the labeling "
   ]
  },
  {
   "cell_type": "code",
   "execution_count": null,
   "metadata": {
    "id": "kRG9SNPBH1K4",
    "outputId": "9c19254c-e415-498f-d244-c35a54d73ca5"
   },
   "outputs": [
    {
     "name": "stdout",
     "output_type": "stream",
     "text": [
      "Train X shape  (1750, 10)\n",
      "Train Y shape (1750,)\n",
      "Test X shape  (744, 10)\n",
      "Test Y shape  (744,)\n"
     ]
    }
   ],
   "source": [
    "print('Train X shape ',trainX.shape)\n",
    "print('Train Y shape',trainY.shape)\n",
    "print('Test X shape ',testX.shape)\n",
    "print('Test Y shape ',testY.shape)"
   ]
  },
  {
   "cell_type": "markdown",
   "metadata": {
    "id": "ZuD7pAXaH1K4"
   },
   "source": [
    "## Reshape to [samples, timesteps, features]"
   ]
  },
  {
   "cell_type": "code",
   "execution_count": null,
   "metadata": {
    "id": "_rdIAVvNH1K5",
    "outputId": "ef95e3c5-0e32-45e9-c252-e5f8a4b2f2d9"
   },
   "outputs": [
    {
     "name": "stdout",
     "output_type": "stream",
     "text": [
      "Train X shape  (1750, 10, 1)\n",
      "Train Y shape (1750,)\n",
      "Test X shape  (744, 10, 1)\n",
      "Test Y shape  (744,)\n"
     ]
    }
   ],
   "source": [
    "\n",
    "trainX = np.reshape(trainX, (trainX.shape[0], trainX.shape[1], 1))\n",
    "testX = np.reshape(testX, (testX.shape[0], testX.shape[1], 1))\n",
    "trainX = np.reshape(trainX, (trainX.shape[0], trainX.shape[1], 1))\n",
    "testX = np.reshape(testX, (testX.shape[0], testX.shape[1], 1))\n",
    "print('Train X shape ',trainX.shape)\n",
    "print('Train Y shape',trainY.shape)\n",
    "print('Test X shape ',testX.shape)\n",
    "print('Test Y shape ',testY.shape)"
   ]
  },
  {
   "cell_type": "markdown",
   "metadata": {
    "id": "6TlWigdMH1K5"
   },
   "source": [
    "## Train and test a Stateful LSTM model. State your final training and testing losses"
   ]
  },
  {
   "cell_type": "code",
   "execution_count": null,
   "metadata": {
    "id": "EmG2Y8PIH1K6",
    "outputId": "f6fc6309-61ea-45e8-96a7-fccb9de40b45"
   },
   "outputs": [
    {
     "name": "stdout",
     "output_type": "stream",
     "text": [
      "Model: \"sequential_24\"\n",
      "_________________________________________________________________\n",
      "Layer (type)                 Output Shape              Param #   \n",
      "=================================================================\n",
      "lstm_24 (LSTM)               (1, 8)                    320       \n",
      "_________________________________________________________________\n",
      "dense_24 (Dense)             (1, 1)                    9         \n",
      "=================================================================\n",
      "Total params: 329\n",
      "Trainable params: 329\n",
      "Non-trainable params: 0\n",
      "_________________________________________________________________\n"
     ]
    }
   ],
   "source": [
    "\n",
    "# Define the model in Keras\n",
    "model = Sequential()\n",
    "# This is how we add an LSTM cell. (We can stack multiple cells on top of each other by repeating this line)\n",
    "model.add(LSTM(8, batch_input_shape=(1, 10, 1), stateful=True))\n",
    "\n",
    "# We have to add a fully connected layer of the LSTM to output the predictions. Here we only have 1 node because\n",
    "# our time-series prediction is expecting one output. \n",
    "model.add(Dense(1))\n",
    "# We define our loss function. Here since we are dealing with numerical data, one option is to use mean squared error.\n",
    "model.compile(loss='mean_squared_error', optimizer='adam')\n",
    "# Check the number of parameters. Always a good idea to take a look at the model from Keras' point of view\n",
    "model.summary()"
   ]
  },
  {
   "cell_type": "markdown",
   "metadata": {
    "id": "X0RdC3QpH1K7"
   },
   "source": [
    "### Starting the training"
   ]
  },
  {
   "cell_type": "code",
   "execution_count": null,
   "metadata": {
    "id": "OOQttSKhH1K7",
    "outputId": "c8b71264-f8eb-41ea-c8c9-c02c8d3560ea"
   },
   "outputs": [
    {
     "name": "stdout",
     "output_type": "stream",
     "text": [
      "Epoch 1/1\n",
      " - 14s - loss: 9.7791\n",
      "Epoch 1/1\n",
      " - 15s - loss: 0.9184\n",
      "Epoch 1/1\n",
      " - 14s - loss: 0.5410\n",
      "Epoch 1/1\n",
      " - 11s - loss: 0.2915\n",
      "Epoch 1/1\n",
      " - 12s - loss: 0.1915\n",
      "Epoch 1/1\n",
      " - 12s - loss: 0.1440\n",
      "Epoch 1/1\n",
      " - 13s - loss: 0.1199\n",
      "Epoch 1/1\n",
      " - 13s - loss: 0.1048\n",
      "Epoch 1/1\n"
     ]
    }
   ],
   "source": [
    "for i in range(10):\n",
    "    model.fit(trainX, trainY, epochs=1, batch_size=1, verbose=2, shuffle=False)\n",
    "    model.reset_states()\n",
    "# Estimate model performance"
   ]
  },
  {
   "cell_type": "markdown",
   "metadata": {
    "id": "ZrxFnncZH1K8"
   },
   "source": [
    "The loss is 0.1156"
   ]
  },
  {
   "cell_type": "markdown",
   "metadata": {
    "id": "VpnlNtYUH1K9"
   },
   "source": [
    "### Preparing data for the plots"
   ]
  },
  {
   "cell_type": "code",
   "execution_count": null,
   "metadata": {
    "id": "xJfRuoQKH1K9"
   },
   "outputs": [],
   "source": [
    "# Estimate model performance\n",
    "trainScore = model.evaluate(trainX, trainY, batch_size=1, verbose=0)\n",
    "model.reset_states()\n",
    "trainScore = math.sqrt(trainScore)\n",
    "trainScore = scaler.inverse_transform(np.array([[trainScore]]))\n",
    "\n",
    "testScore = model.evaluate(testX, testY, batch_size=1, verbose=0)\n",
    "model.reset_states()\n",
    "testScore = math.sqrt(testScore)\n",
    "testScore = scaler.inverse_transform(np.array([[testScore]]))\n",
    "\n",
    "# generate predictions for training\n",
    "trainPredict = model.predict(trainX, batch_size=1)\n",
    "testPredict = model.predict(testX, batch_size=1)\n",
    "# shift train predictions for plotting\n",
    "trainPredictPlot = np.empty_like(dataset_cl_unscaled)\n",
    "trainPredictPlot[:, :] = np.nan\n",
    "trainPredictPlot[look_back:len(trainPredict)+look_back, :] = trainPredict\n",
    "\n",
    "# shift test predictions for plotting\n",
    "testPredictPlot = np.empty_like(dataset_cl_unscaled)\n",
    "testPredictPlot[:, :] = np.nan\n",
    "testPredictPlot[len(trainPredict)+(look_back*2)+1:len(dataset_cl_unscaled)-1, :] = testPredict"
   ]
  },
  {
   "cell_type": "code",
   "execution_count": null,
   "metadata": {
    "id": "thseUJFpH1K-"
   },
   "outputs": [],
   "source": [
    "testY = testY.reshape(-1,1)"
   ]
  },
  {
   "cell_type": "code",
   "execution_count": null,
   "metadata": {
    "id": "K6qfnebpH1K-"
   },
   "outputs": [],
   "source": [
    "# shift test predictions for plotting\n",
    "testYPlot = np.empty_like(dataset_close)\n",
    "testYPlot[:, :] = np.nan\n",
    "testYPlot[len(trainY)+(look_back*2)+1:len(dataset_close)-1, :] = testY"
   ]
  },
  {
   "cell_type": "markdown",
   "metadata": {
    "id": "SH6Es9zxH1K_"
   },
   "source": [
    "### Plot"
   ]
  },
  {
   "cell_type": "code",
   "execution_count": null,
   "metadata": {
    "id": "cFu-yCuzH1K_"
   },
   "outputs": [],
   "source": [
    "#plt.plot(dataset_close)\n",
    "plt.plot(trainY, color = 'yellow', label = 'Training')\n",
    "plt.plot(testYPlot, color = 'red', label = 'Testing')\n",
    "plt.plot(trainPredictPlot,'r--',color = 'green', label = 'Train Prediction')\n",
    "plt.plot(testPredictPlot,'r--', color = 'blue', label = 'Test Prediction')\n",
    "plt.legend()\n",
    "plt.show()"
   ]
  },
  {
   "cell_type": "markdown",
   "metadata": {
    "id": "sil1oG8FH1K_"
   },
   "source": [
    "## With the open data"
   ]
  },
  {
   "cell_type": "code",
   "execution_count": null,
   "metadata": {
    "id": "BAhwqIBpH1LA"
   },
   "outputs": [],
   "source": [
    "\n",
    "unscaled_dataset_open = scaler.inverse_transform(dataset_open)"
   ]
  },
  {
   "cell_type": "code",
   "execution_count": null,
   "metadata": {
    "id": "8YtNwPmpH1LA"
   },
   "outputs": [],
   "source": [
    "unscaled_dataset_open"
   ]
  },
  {
   "cell_type": "code",
   "execution_count": null,
   "metadata": {
    "id": "xTHSg8AMH1LA"
   },
   "outputs": [],
   "source": [
    "# shift test Open values for plotting\n",
    "openPlot = np.empty_like(unscaled_dataset_open)\n",
    "openPlot[:, :] = np.nan\n",
    "openPlot[len(trainY)+(look_back*2)+1:len(unscaled_dataset_open)-1, :] = unscaled_dataset_open[len(trainY)+(look_back*2)+1:len(unscaled_dataset_open)-1, :]"
   ]
  },
  {
   "cell_type": "code",
   "execution_count": null,
   "metadata": {
    "id": "Q122MrA0H1LB"
   },
   "outputs": [],
   "source": [
    "plt.plot(testPredictPlot,color = 'red')\n",
    "plt.plot(openPlot,'r--',color = 'blue')"
   ]
  },
  {
   "cell_type": "code",
   "execution_count": null,
   "metadata": {
    "id": "5zjDX-RZH1LC"
   },
   "outputs": [],
   "source": []
  }
 ],
 "metadata": {
  "colab": {
   "name": "jey-FIN-Assignment_03.ipynb",
   "provenance": []
  },
  "kernelspec": {
   "display_name": "Python 3",
   "language": "python",
   "name": "python3"
  },
  "language_info": {
   "codemirror_mode": {
    "name": "ipython",
    "version": 3
   },
   "file_extension": ".py",
   "mimetype": "text/x-python",
   "name": "python",
   "nbconvert_exporter": "python",
   "pygments_lexer": "ipython3",
   "version": "3.7.4"
  }
 },
 "nbformat": 4,
 "nbformat_minor": 1
}
